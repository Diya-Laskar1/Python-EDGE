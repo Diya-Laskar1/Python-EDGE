{
  "nbformat": 4,
  "nbformat_minor": 0,
  "metadata": {
    "colab": {
      "private_outputs": true,
      "provenance": []
    },
    "kernelspec": {
      "name": "python3",
      "display_name": "Python 3"
    },
    "language_info": {
      "name": "python"
    }
  },
  "cells": [
    {
      "cell_type": "markdown",
      "source": [
        "**Question-1**\n"
      ],
      "metadata": {
        "id": "SdeXW5sAvSye"
      }
    },
    {
      "cell_type": "code",
      "source": [
        "import pandas as pd\n",
        "\n",
        "# Load the Titanic dataset\n",
        "df = pd.read_csv(\"train.csv\")\n",
        "\n",
        "# Calculate the range of fares: minimum and maximum fares\n",
        "min_fare = df['Fare'].min()\n",
        "max_fare = df['Fare'].max()\n",
        "\n",
        "print(f\"Range of fares paid by passengers: {min_fare} to {max_fare}\")\n"
      ],
      "metadata": {
        "id": "4Pek5Temqzjy"
      },
      "execution_count": null,
      "outputs": []
    },
    {
      "cell_type": "markdown",
      "source": [
        "**Question-2**"
      ],
      "metadata": {
        "id": "oYedFsd4vf5P"
      }
    },
    {
      "cell_type": "code",
      "source": [
        "\n",
        "import matplotlib.pyplot as plt\n",
        "\n",
        "# Create a pie chart for survivors vs non-survivors\n",
        "survival_counts = df['Survived'].value_counts()\n",
        "survival_labels = ['Non-Survived', 'Survived']\n",
        "\n",
        "plt.figure(figsize=(6,6))\n",
        "plt.pie(survival_counts, labels=survival_labels, autopct='%1.1f%%', startangle=90, colors=['r','b'])\n",
        "plt.title('Proportion of Survivors and Non-Survivors')\n",
        "plt.show()"
      ],
      "metadata": {
        "id": "OEhiik6ur6F8"
      },
      "execution_count": null,
      "outputs": []
    },
    {
      "cell_type": "markdown",
      "source": [
        "**Question-3**"
      ],
      "metadata": {
        "id": "appLJv6b2QXO"
      }
    },
    {
      "cell_type": "code",
      "source": [
        "#Find the number of children (passengers under 18 years old)\n",
        "children_count = df[df['Age'] < 18].shape[0]\n",
        "print(\"Number of children (under 18 years old):\", children_count)"
      ],
      "metadata": {
        "id": "XrEyylzo0fba"
      },
      "execution_count": null,
      "outputs": []
    },
    {
      "cell_type": "markdown",
      "source": [
        "**Question-4**"
      ],
      "metadata": {
        "id": "M-j9t7o72UMS"
      }
    },
    {
      "cell_type": "code",
      "source": [
        "#Fill missing values in the deck column with “Unknown”\n",
        "df['Deck'] = df['Cabin'].apply(lambda x: x[0] if pd.notnull(x) else 'Unknown')\n",
        "print(\"Unique values in the Deck column after filling missing values:\", df['Deck'].unique())"
      ],
      "metadata": {
        "id": "DcaXAWHC0qGW"
      },
      "execution_count": null,
      "outputs": []
    },
    {
      "cell_type": "markdown",
      "source": [
        "**Question-5**"
      ],
      "metadata": {
        "id": "DU9K4Exp2c0o"
      }
    },
    {
      "cell_type": "code",
      "source": [
        "#Identify which gender had the highest survival rate\n",
        "gender_survival_rate = df.groupby('Sex')['Survived'].mean()\n",
        "highest_survival_gender = gender_survival_rate.idxmax()\n",
        "print(\"Gender with the highest survival rate:\", highest_survival_gender)"
      ],
      "metadata": {
        "id": "yXB7NW9V1ALO"
      },
      "execution_count": null,
      "outputs": []
    },
    {
      "cell_type": "markdown",
      "source": [
        "**Question-6**"
      ],
      "metadata": {
        "id": "pzcZ90wt2f3L"
      }
    },
    {
      "cell_type": "code",
      "source": [
        "#Create a boxplot showing fare distribution across classes\n",
        "import seaborn as sns\n",
        "plt.figure(figsize=(8,6))\n",
        "sns.boxplot(x='Pclass', y='Fare', data=df, palette='Set2')\n",
        "plt.title('Fare Distribution Across Classes')\n",
        "plt.show()"
      ],
      "metadata": {
        "id": "1-ntoITb2E0I"
      },
      "execution_count": null,
      "outputs": []
    }
  ]
}